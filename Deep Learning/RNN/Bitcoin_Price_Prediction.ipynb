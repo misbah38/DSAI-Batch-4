{
  "nbformat": 4,
  "nbformat_minor": 0,
  "metadata": {
    "colab": {
      "provenance": []
    },
    "kernelspec": {
      "name": "python3",
      "display_name": "Python 3"
    },
    "language_info": {
      "name": "python"
    }
  },
  "cells": [
    {
      "cell_type": "markdown",
      "source": [
        "Misbah Sabir\n",
        "42101-5802137_4"
      ],
      "metadata": {
        "id": "4uVrS9GhqxWq"
      }
    },
    {
      "cell_type": "markdown",
      "source": [
        "**Import Libraries**"
      ],
      "metadata": {
        "id": "aR8Br5heqcP3"
      }
    },
    {
      "cell_type": "code",
      "execution_count": null,
      "metadata": {
        "id": "ZXIK3431ixG2"
      },
      "outputs": [],
      "source": [
        "import pandas as pd\n",
        "import numpy as np\n",
        "import matplotlib.pyplot as plt\n",
        "from sklearn.preprocessing import MinMaxScaler\n",
        "from sklearn.model_selection import train_test_split\n",
        "from tensorflow.keras.models import Sequential\n",
        "from tensorflow.keras.layers import LSTM, GRU, Dense"
      ]
    },
    {
      "cell_type": "markdown",
      "source": [
        "**Load Data**"
      ],
      "metadata": {
        "id": "IKnYUiboqpD7"
      }
    },
    {
      "cell_type": "code",
      "source": [
        "df=pd.read_csv('BitCoin.csv')\n",
        "df.head()"
      ],
      "metadata": {
        "colab": {
          "base_uri": "https://localhost:8080/",
          "height": 206
        },
        "id": "dJ0fOvRFjdj2",
        "outputId": "80d06add-3aa5-46ed-ebf5-9ba01a56d404"
      },
      "execution_count": null,
      "outputs": [
        {
          "output_type": "execute_result",
          "data": {
            "text/plain": [
              "   Unnamed: 0    Open     Max     Min   Close     Volume   Margin        Date\n",
              "0           0  357.00  364.98  356.00  362.06   627500.0  720.020  2015-01-01\n",
              "1           1  363.00  369.88  363.00  367.85  1232500.0  731.865  2015-01-02\n",
              "2           2  365.70  365.90  360.00  363.37  1228400.0  727.485  2015-01-05\n",
              "3           3  361.00  362.48  356.10  356.84  1509000.0  718.210  2015-01-06\n",
              "4           4  356.45  359.90  351.29  352.39  1524900.0  710.015  2015-01-07"
            ],
            "text/html": [
              "\n",
              "  <div id=\"df-809c9f5c-b3e1-4e6a-a934-93476cc98ee5\" class=\"colab-df-container\">\n",
              "    <div>\n",
              "<style scoped>\n",
              "    .dataframe tbody tr th:only-of-type {\n",
              "        vertical-align: middle;\n",
              "    }\n",
              "\n",
              "    .dataframe tbody tr th {\n",
              "        vertical-align: top;\n",
              "    }\n",
              "\n",
              "    .dataframe thead th {\n",
              "        text-align: right;\n",
              "    }\n",
              "</style>\n",
              "<table border=\"1\" class=\"dataframe\">\n",
              "  <thead>\n",
              "    <tr style=\"text-align: right;\">\n",
              "      <th></th>\n",
              "      <th>Unnamed: 0</th>\n",
              "      <th>Open</th>\n",
              "      <th>Max</th>\n",
              "      <th>Min</th>\n",
              "      <th>Close</th>\n",
              "      <th>Volume</th>\n",
              "      <th>Margin</th>\n",
              "      <th>Date</th>\n",
              "    </tr>\n",
              "  </thead>\n",
              "  <tbody>\n",
              "    <tr>\n",
              "      <th>0</th>\n",
              "      <td>0</td>\n",
              "      <td>357.00</td>\n",
              "      <td>364.98</td>\n",
              "      <td>356.00</td>\n",
              "      <td>362.06</td>\n",
              "      <td>627500.0</td>\n",
              "      <td>720.020</td>\n",
              "      <td>2015-01-01</td>\n",
              "    </tr>\n",
              "    <tr>\n",
              "      <th>1</th>\n",
              "      <td>1</td>\n",
              "      <td>363.00</td>\n",
              "      <td>369.88</td>\n",
              "      <td>363.00</td>\n",
              "      <td>367.85</td>\n",
              "      <td>1232500.0</td>\n",
              "      <td>731.865</td>\n",
              "      <td>2015-01-02</td>\n",
              "    </tr>\n",
              "    <tr>\n",
              "      <th>2</th>\n",
              "      <td>2</td>\n",
              "      <td>365.70</td>\n",
              "      <td>365.90</td>\n",
              "      <td>360.00</td>\n",
              "      <td>363.37</td>\n",
              "      <td>1228400.0</td>\n",
              "      <td>727.485</td>\n",
              "      <td>2015-01-05</td>\n",
              "    </tr>\n",
              "    <tr>\n",
              "      <th>3</th>\n",
              "      <td>3</td>\n",
              "      <td>361.00</td>\n",
              "      <td>362.48</td>\n",
              "      <td>356.10</td>\n",
              "      <td>356.84</td>\n",
              "      <td>1509000.0</td>\n",
              "      <td>718.210</td>\n",
              "      <td>2015-01-06</td>\n",
              "    </tr>\n",
              "    <tr>\n",
              "      <th>4</th>\n",
              "      <td>4</td>\n",
              "      <td>356.45</td>\n",
              "      <td>359.90</td>\n",
              "      <td>351.29</td>\n",
              "      <td>352.39</td>\n",
              "      <td>1524900.0</td>\n",
              "      <td>710.015</td>\n",
              "      <td>2015-01-07</td>\n",
              "    </tr>\n",
              "  </tbody>\n",
              "</table>\n",
              "</div>\n",
              "    <div class=\"colab-df-buttons\">\n",
              "\n",
              "  <div class=\"colab-df-container\">\n",
              "    <button class=\"colab-df-convert\" onclick=\"convertToInteractive('df-809c9f5c-b3e1-4e6a-a934-93476cc98ee5')\"\n",
              "            title=\"Convert this dataframe to an interactive table.\"\n",
              "            style=\"display:none;\">\n",
              "\n",
              "  <svg xmlns=\"http://www.w3.org/2000/svg\" height=\"24px\" viewBox=\"0 -960 960 960\">\n",
              "    <path d=\"M120-120v-720h720v720H120Zm60-500h600v-160H180v160Zm220 220h160v-160H400v160Zm0 220h160v-160H400v160ZM180-400h160v-160H180v160Zm440 0h160v-160H620v160ZM180-180h160v-160H180v160Zm440 0h160v-160H620v160Z\"/>\n",
              "  </svg>\n",
              "    </button>\n",
              "\n",
              "  <style>\n",
              "    .colab-df-container {\n",
              "      display:flex;\n",
              "      gap: 12px;\n",
              "    }\n",
              "\n",
              "    .colab-df-convert {\n",
              "      background-color: #E8F0FE;\n",
              "      border: none;\n",
              "      border-radius: 50%;\n",
              "      cursor: pointer;\n",
              "      display: none;\n",
              "      fill: #1967D2;\n",
              "      height: 32px;\n",
              "      padding: 0 0 0 0;\n",
              "      width: 32px;\n",
              "    }\n",
              "\n",
              "    .colab-df-convert:hover {\n",
              "      background-color: #E2EBFA;\n",
              "      box-shadow: 0px 1px 2px rgba(60, 64, 67, 0.3), 0px 1px 3px 1px rgba(60, 64, 67, 0.15);\n",
              "      fill: #174EA6;\n",
              "    }\n",
              "\n",
              "    .colab-df-buttons div {\n",
              "      margin-bottom: 4px;\n",
              "    }\n",
              "\n",
              "    [theme=dark] .colab-df-convert {\n",
              "      background-color: #3B4455;\n",
              "      fill: #D2E3FC;\n",
              "    }\n",
              "\n",
              "    [theme=dark] .colab-df-convert:hover {\n",
              "      background-color: #434B5C;\n",
              "      box-shadow: 0px 1px 3px 1px rgba(0, 0, 0, 0.15);\n",
              "      filter: drop-shadow(0px 1px 2px rgba(0, 0, 0, 0.3));\n",
              "      fill: #FFFFFF;\n",
              "    }\n",
              "  </style>\n",
              "\n",
              "    <script>\n",
              "      const buttonEl =\n",
              "        document.querySelector('#df-809c9f5c-b3e1-4e6a-a934-93476cc98ee5 button.colab-df-convert');\n",
              "      buttonEl.style.display =\n",
              "        google.colab.kernel.accessAllowed ? 'block' : 'none';\n",
              "\n",
              "      async function convertToInteractive(key) {\n",
              "        const element = document.querySelector('#df-809c9f5c-b3e1-4e6a-a934-93476cc98ee5');\n",
              "        const dataTable =\n",
              "          await google.colab.kernel.invokeFunction('convertToInteractive',\n",
              "                                                    [key], {});\n",
              "        if (!dataTable) return;\n",
              "\n",
              "        const docLinkHtml = 'Like what you see? Visit the ' +\n",
              "          '<a target=\"_blank\" href=https://colab.research.google.com/notebooks/data_table.ipynb>data table notebook</a>'\n",
              "          + ' to learn more about interactive tables.';\n",
              "        element.innerHTML = '';\n",
              "        dataTable['output_type'] = 'display_data';\n",
              "        await google.colab.output.renderOutput(dataTable, element);\n",
              "        const docLink = document.createElement('div');\n",
              "        docLink.innerHTML = docLinkHtml;\n",
              "        element.appendChild(docLink);\n",
              "      }\n",
              "    </script>\n",
              "  </div>\n",
              "\n",
              "\n",
              "<div id=\"df-4e665077-96e3-4513-9bcc-dd2fd4901e74\">\n",
              "  <button class=\"colab-df-quickchart\" onclick=\"quickchart('df-4e665077-96e3-4513-9bcc-dd2fd4901e74')\"\n",
              "            title=\"Suggest charts\"\n",
              "            style=\"display:none;\">\n",
              "\n",
              "<svg xmlns=\"http://www.w3.org/2000/svg\" height=\"24px\"viewBox=\"0 0 24 24\"\n",
              "     width=\"24px\">\n",
              "    <g>\n",
              "        <path d=\"M19 3H5c-1.1 0-2 .9-2 2v14c0 1.1.9 2 2 2h14c1.1 0 2-.9 2-2V5c0-1.1-.9-2-2-2zM9 17H7v-7h2v7zm4 0h-2V7h2v10zm4 0h-2v-4h2v4z\"/>\n",
              "    </g>\n",
              "</svg>\n",
              "  </button>\n",
              "\n",
              "<style>\n",
              "  .colab-df-quickchart {\n",
              "      --bg-color: #E8F0FE;\n",
              "      --fill-color: #1967D2;\n",
              "      --hover-bg-color: #E2EBFA;\n",
              "      --hover-fill-color: #174EA6;\n",
              "      --disabled-fill-color: #AAA;\n",
              "      --disabled-bg-color: #DDD;\n",
              "  }\n",
              "\n",
              "  [theme=dark] .colab-df-quickchart {\n",
              "      --bg-color: #3B4455;\n",
              "      --fill-color: #D2E3FC;\n",
              "      --hover-bg-color: #434B5C;\n",
              "      --hover-fill-color: #FFFFFF;\n",
              "      --disabled-bg-color: #3B4455;\n",
              "      --disabled-fill-color: #666;\n",
              "  }\n",
              "\n",
              "  .colab-df-quickchart {\n",
              "    background-color: var(--bg-color);\n",
              "    border: none;\n",
              "    border-radius: 50%;\n",
              "    cursor: pointer;\n",
              "    display: none;\n",
              "    fill: var(--fill-color);\n",
              "    height: 32px;\n",
              "    padding: 0;\n",
              "    width: 32px;\n",
              "  }\n",
              "\n",
              "  .colab-df-quickchart:hover {\n",
              "    background-color: var(--hover-bg-color);\n",
              "    box-shadow: 0 1px 2px rgba(60, 64, 67, 0.3), 0 1px 3px 1px rgba(60, 64, 67, 0.15);\n",
              "    fill: var(--button-hover-fill-color);\n",
              "  }\n",
              "\n",
              "  .colab-df-quickchart-complete:disabled,\n",
              "  .colab-df-quickchart-complete:disabled:hover {\n",
              "    background-color: var(--disabled-bg-color);\n",
              "    fill: var(--disabled-fill-color);\n",
              "    box-shadow: none;\n",
              "  }\n",
              "\n",
              "  .colab-df-spinner {\n",
              "    border: 2px solid var(--fill-color);\n",
              "    border-color: transparent;\n",
              "    border-bottom-color: var(--fill-color);\n",
              "    animation:\n",
              "      spin 1s steps(1) infinite;\n",
              "  }\n",
              "\n",
              "  @keyframes spin {\n",
              "    0% {\n",
              "      border-color: transparent;\n",
              "      border-bottom-color: var(--fill-color);\n",
              "      border-left-color: var(--fill-color);\n",
              "    }\n",
              "    20% {\n",
              "      border-color: transparent;\n",
              "      border-left-color: var(--fill-color);\n",
              "      border-top-color: var(--fill-color);\n",
              "    }\n",
              "    30% {\n",
              "      border-color: transparent;\n",
              "      border-left-color: var(--fill-color);\n",
              "      border-top-color: var(--fill-color);\n",
              "      border-right-color: var(--fill-color);\n",
              "    }\n",
              "    40% {\n",
              "      border-color: transparent;\n",
              "      border-right-color: var(--fill-color);\n",
              "      border-top-color: var(--fill-color);\n",
              "    }\n",
              "    60% {\n",
              "      border-color: transparent;\n",
              "      border-right-color: var(--fill-color);\n",
              "    }\n",
              "    80% {\n",
              "      border-color: transparent;\n",
              "      border-right-color: var(--fill-color);\n",
              "      border-bottom-color: var(--fill-color);\n",
              "    }\n",
              "    90% {\n",
              "      border-color: transparent;\n",
              "      border-bottom-color: var(--fill-color);\n",
              "    }\n",
              "  }\n",
              "</style>\n",
              "\n",
              "  <script>\n",
              "    async function quickchart(key) {\n",
              "      const quickchartButtonEl =\n",
              "        document.querySelector('#' + key + ' button');\n",
              "      quickchartButtonEl.disabled = true;  // To prevent multiple clicks.\n",
              "      quickchartButtonEl.classList.add('colab-df-spinner');\n",
              "      try {\n",
              "        const charts = await google.colab.kernel.invokeFunction(\n",
              "            'suggestCharts', [key], {});\n",
              "      } catch (error) {\n",
              "        console.error('Error during call to suggestCharts:', error);\n",
              "      }\n",
              "      quickchartButtonEl.classList.remove('colab-df-spinner');\n",
              "      quickchartButtonEl.classList.add('colab-df-quickchart-complete');\n",
              "    }\n",
              "    (() => {\n",
              "      let quickchartButtonEl =\n",
              "        document.querySelector('#df-4e665077-96e3-4513-9bcc-dd2fd4901e74 button');\n",
              "      quickchartButtonEl.style.display =\n",
              "        google.colab.kernel.accessAllowed ? 'block' : 'none';\n",
              "    })();\n",
              "  </script>\n",
              "</div>\n",
              "    </div>\n",
              "  </div>\n"
            ]
          },
          "metadata": {},
          "execution_count": 3
        }
      ]
    },
    {
      "cell_type": "code",
      "source": [
        "# Generate and add 'Date' column based on 'Timestamp'\n",
        "df['Date']=pd.to_datetime(df['Timestamp'],unit='s').dt.date\n",
        "\n",
        "# Group by 'Date' and calculate the mean of 'Weighted_Price' for each date\n",
        "group= df.groupby('Date')\n",
        "Real_Price=group['Weighted_Price'].mean()"
      ],
      "metadata": {
        "id": "uxKjeJfrkUwt"
      },
      "execution_count": null,
      "outputs": []
    },
    {
      "cell_type": "code",
      "source": [
        "# now Split Data\n",
        "pred_days=30\n",
        "\n",
        "#create a training set (df_train) by selecting the last prediction_days days from the Real_Price time series.\n",
        "df_train=Real_Price[len(Real_Price)-pred_days:]\n",
        "\n",
        "#You create a testing set (df_test) by selecting all the days in Real_Price except the last prediction_days.\n",
        "df_test=Real_Price[:len(Real_Price)-pred_days]\n"
      ],
      "metadata": {
        "id": "kAym-6RjlcLz"
      },
      "execution_count": null,
      "outputs": []
    },
    {
      "cell_type": "markdown",
      "source": [
        "**Data Preproccessing**"
      ],
      "metadata": {
        "id": "RTbIagFuq4pM"
      }
    },
    {
      "cell_type": "code",
      "source": [
        "#Normalize the data\n",
        "#Converts the 'df_train' pandas Series to a NumPy array.\n",
        "training_set=df_train.values\n",
        "\n",
        "#Reshapes the array to have one column, which is a common practice when working with time-series data.\n",
        "training_set = np.reshape(training_set, (len(training_set), 1))\n",
        "\n",
        "#Uses MinMaxScaler from scikit-learn to scale the data between 0 and 1.\n",
        "sc=MinMaxScaler()\n",
        "#Scaling is often important when working with neural networks, as it can improve convergence during training.\n",
        "training_set = sc.fit_transform(training_set)\n",
        "\n",
        "# Creates input sequences (X_train) and corresponding output sequences (y_train) for training.\n",
        "#X_train contains the input sequences (all values except the last one)\n",
        "X_train = training_set[:-1]\n",
        "\n",
        "#y_train contains the corresponding output sequences (all values except the first one)\n",
        "y_train = training_set[1:]\n",
        "# Reshapes the input sequences (X_train) to have dimensions (number of samples, time steps, features).\n",
        "X_train = np.reshape(X_train, (len(X_train), 1, 1))"
      ],
      "metadata": {
        "id": "ycQIplyrlcI_",
        "colab": {
          "base_uri": "https://localhost:8080/",
          "height": 245
        },
        "outputId": "b1aef9b5-c750-4ae9-b8e5-13c9ff5413a9"
      },
      "execution_count": null,
      "outputs": [
        {
          "output_type": "error",
          "ename": "NameError",
          "evalue": "ignored",
          "traceback": [
            "\u001b[0;31m---------------------------------------------------------------------------\u001b[0m",
            "\u001b[0;31mNameError\u001b[0m                                 Traceback (most recent call last)",
            "\u001b[0;32m<ipython-input-2-f85ad941d26b>\u001b[0m in \u001b[0;36m<cell line: 3>\u001b[0;34m()\u001b[0m\n\u001b[1;32m      1\u001b[0m \u001b[0;31m#Normalize the data\u001b[0m\u001b[0;34m\u001b[0m\u001b[0;34m\u001b[0m\u001b[0m\n\u001b[1;32m      2\u001b[0m \u001b[0;31m#Converts the 'df_train' pandas Series to a NumPy array.\u001b[0m\u001b[0;34m\u001b[0m\u001b[0;34m\u001b[0m\u001b[0m\n\u001b[0;32m----> 3\u001b[0;31m \u001b[0mtraining_set\u001b[0m\u001b[0;34m=\u001b[0m\u001b[0mdf_train\u001b[0m\u001b[0;34m.\u001b[0m\u001b[0mvalues\u001b[0m\u001b[0;34m\u001b[0m\u001b[0;34m\u001b[0m\u001b[0m\n\u001b[0m\u001b[1;32m      4\u001b[0m \u001b[0;34m\u001b[0m\u001b[0m\n\u001b[1;32m      5\u001b[0m \u001b[0;31m#Reshapes the array to have one column, which is a common practice when working with time-series data.\u001b[0m\u001b[0;34m\u001b[0m\u001b[0;34m\u001b[0m\u001b[0m\n",
            "\u001b[0;31mNameError\u001b[0m: name 'df_train' is not defined"
          ]
        }
      ]
    },
    {
      "cell_type": "code",
      "source": [
        "X_train.shape"
      ],
      "metadata": {
        "colab": {
          "base_uri": "https://localhost:8080/"
        },
        "id": "lW5Mh78eJGwi",
        "outputId": "df5b92df-e27f-4cee-926d-f2af1e3a7004"
      },
      "execution_count": null,
      "outputs": [
        {
          "output_type": "execute_result",
          "data": {
            "text/plain": [
              "(10, 1, 1)"
            ]
          },
          "metadata": {},
          "execution_count": 10
        }
      ]
    },
    {
      "cell_type": "code",
      "source": [
        "y_train.shape"
      ],
      "metadata": {
        "colab": {
          "base_uri": "https://localhost:8080/"
        },
        "id": "JwHv-GkQJRMJ",
        "outputId": "e081991f-78fd-4615-b0e1-1bdab8bc6f90"
      },
      "execution_count": null,
      "outputs": [
        {
          "output_type": "execute_result",
          "data": {
            "text/plain": [
              "(10, 1)"
            ]
          },
          "metadata": {},
          "execution_count": 11
        }
      ]
    },
    {
      "cell_type": "markdown",
      "source": [
        "**Build the Model RNN**"
      ],
      "metadata": {
        "id": "1uBRVWYaI2Ov"
      }
    },
    {
      "cell_type": "code",
      "source": [
        "# Initialising the RNN\n",
        "model = tf.keras.Sequential()\n",
        "\n",
        "# Adding the input layer and the LSTM layer\n",
        "model.add(tf.keras.layers.LSTM(units = 4, activation = 'sigmoid', input_shape = (None, 1)))\n",
        "\n",
        "# Adding the output layer\n",
        "model.add(tf.keras.layers.Dense(1))\n",
        "\n",
        "# Compiling the RNN\n",
        "model.compile(optimizer = 'adam', loss = 'mean_squared_error')\n",
        "\n",
        "# Fitting the RNN to the Training set\n",
        "model.fit(X_train, y_train, batch_size = 2, epochs = 100)"
      ],
      "metadata": {
        "colab": {
          "base_uri": "https://localhost:8080/"
        },
        "id": "TA5CmpS1lcAi",
        "outputId": "9c5ef7cb-4ac6-4952-e8b4-a20b2445f4a9"
      },
      "execution_count": null,
      "outputs": [
        {
          "output_type": "stream",
          "name": "stdout",
          "text": [
            "Epoch 1/100\n",
            "5/5 [==============================] - 1s 3ms/step - loss: 0.5618\n",
            "Epoch 2/100\n",
            "5/5 [==============================] - 0s 4ms/step - loss: 0.5481\n",
            "Epoch 3/100\n",
            "5/5 [==============================] - 0s 3ms/step - loss: 0.5340\n",
            "Epoch 4/100\n",
            "5/5 [==============================] - 0s 3ms/step - loss: 0.5181\n",
            "Epoch 5/100\n",
            "5/5 [==============================] - 0s 4ms/step - loss: 0.5059\n",
            "Epoch 6/100\n",
            "5/5 [==============================] - 0s 3ms/step - loss: 0.4916\n",
            "Epoch 7/100\n",
            "5/5 [==============================] - 0s 3ms/step - loss: 0.4803\n",
            "Epoch 8/100\n",
            "5/5 [==============================] - 0s 3ms/step - loss: 0.4663\n",
            "Epoch 9/100\n",
            "5/5 [==============================] - 0s 3ms/step - loss: 0.4536\n",
            "Epoch 10/100\n",
            "5/5 [==============================] - 0s 3ms/step - loss: 0.4422\n",
            "Epoch 11/100\n",
            "5/5 [==============================] - 0s 3ms/step - loss: 0.4299\n",
            "Epoch 12/100\n",
            "5/5 [==============================] - 0s 3ms/step - loss: 0.4194\n",
            "Epoch 13/100\n",
            "5/5 [==============================] - 0s 3ms/step - loss: 0.4083\n",
            "Epoch 14/100\n",
            "5/5 [==============================] - 0s 3ms/step - loss: 0.3974\n",
            "Epoch 15/100\n",
            "5/5 [==============================] - 0s 3ms/step - loss: 0.3862\n",
            "Epoch 16/100\n",
            "5/5 [==============================] - 0s 4ms/step - loss: 0.3759\n",
            "Epoch 17/100\n",
            "5/5 [==============================] - 0s 3ms/step - loss: 0.3664\n",
            "Epoch 18/100\n",
            "5/5 [==============================] - 0s 3ms/step - loss: 0.3571\n",
            "Epoch 19/100\n",
            "5/5 [==============================] - 0s 3ms/step - loss: 0.3473\n",
            "Epoch 20/100\n",
            "5/5 [==============================] - 0s 3ms/step - loss: 0.3390\n",
            "Epoch 21/100\n",
            "5/5 [==============================] - 0s 3ms/step - loss: 0.3319\n",
            "Epoch 22/100\n",
            "5/5 [==============================] - 0s 3ms/step - loss: 0.3221\n",
            "Epoch 23/100\n",
            "5/5 [==============================] - 0s 3ms/step - loss: 0.3136\n",
            "Epoch 24/100\n",
            "5/5 [==============================] - 0s 3ms/step - loss: 0.3052\n",
            "Epoch 25/100\n",
            "5/5 [==============================] - 0s 3ms/step - loss: 0.2990\n",
            "Epoch 26/100\n",
            "5/5 [==============================] - 0s 4ms/step - loss: 0.2908\n",
            "Epoch 27/100\n",
            "5/5 [==============================] - 0s 4ms/step - loss: 0.2833\n",
            "Epoch 28/100\n",
            "5/5 [==============================] - 0s 6ms/step - loss: 0.2774\n",
            "Epoch 29/100\n",
            "5/5 [==============================] - 0s 4ms/step - loss: 0.2705\n",
            "Epoch 30/100\n",
            "5/5 [==============================] - 0s 4ms/step - loss: 0.2636\n",
            "Epoch 31/100\n",
            "5/5 [==============================] - 0s 3ms/step - loss: 0.2565\n",
            "Epoch 32/100\n",
            "5/5 [==============================] - 0s 3ms/step - loss: 0.2513\n",
            "Epoch 33/100\n",
            "5/5 [==============================] - 0s 3ms/step - loss: 0.2460\n",
            "Epoch 34/100\n",
            "5/5 [==============================] - 0s 4ms/step - loss: 0.2395\n",
            "Epoch 35/100\n",
            "5/5 [==============================] - 0s 4ms/step - loss: 0.2351\n",
            "Epoch 36/100\n",
            "5/5 [==============================] - 0s 3ms/step - loss: 0.2284\n",
            "Epoch 37/100\n",
            "5/5 [==============================] - 0s 3ms/step - loss: 0.2242\n",
            "Epoch 38/100\n",
            "5/5 [==============================] - 0s 3ms/step - loss: 0.2193\n",
            "Epoch 39/100\n",
            "5/5 [==============================] - 0s 3ms/step - loss: 0.2145\n",
            "Epoch 40/100\n",
            "5/5 [==============================] - 0s 3ms/step - loss: 0.2097\n",
            "Epoch 41/100\n",
            "5/5 [==============================] - 0s 3ms/step - loss: 0.2050\n",
            "Epoch 42/100\n",
            "5/5 [==============================] - 0s 4ms/step - loss: 0.2024\n",
            "Epoch 43/100\n",
            "5/5 [==============================] - 0s 4ms/step - loss: 0.1967\n",
            "Epoch 44/100\n",
            "5/5 [==============================] - 0s 4ms/step - loss: 0.1935\n",
            "Epoch 45/100\n",
            "5/5 [==============================] - 0s 3ms/step - loss: 0.1901\n",
            "Epoch 46/100\n",
            "5/5 [==============================] - 0s 3ms/step - loss: 0.1864\n",
            "Epoch 47/100\n",
            "5/5 [==============================] - 0s 3ms/step - loss: 0.1828\n",
            "Epoch 48/100\n",
            "5/5 [==============================] - 0s 3ms/step - loss: 0.1794\n",
            "Epoch 49/100\n",
            "5/5 [==============================] - 0s 3ms/step - loss: 0.1765\n",
            "Epoch 50/100\n",
            "5/5 [==============================] - 0s 3ms/step - loss: 0.1735\n",
            "Epoch 51/100\n",
            "5/5 [==============================] - 0s 3ms/step - loss: 0.1705\n",
            "Epoch 52/100\n",
            "5/5 [==============================] - 0s 3ms/step - loss: 0.1679\n",
            "Epoch 53/100\n",
            "5/5 [==============================] - 0s 3ms/step - loss: 0.1650\n",
            "Epoch 54/100\n",
            "5/5 [==============================] - 0s 3ms/step - loss: 0.1629\n",
            "Epoch 55/100\n",
            "5/5 [==============================] - 0s 3ms/step - loss: 0.1607\n",
            "Epoch 56/100\n",
            "5/5 [==============================] - 0s 4ms/step - loss: 0.1581\n",
            "Epoch 57/100\n",
            "5/5 [==============================] - 0s 3ms/step - loss: 0.1559\n",
            "Epoch 58/100\n",
            "5/5 [==============================] - 0s 3ms/step - loss: 0.1545\n",
            "Epoch 59/100\n",
            "5/5 [==============================] - 0s 3ms/step - loss: 0.1516\n",
            "Epoch 60/100\n",
            "5/5 [==============================] - 0s 3ms/step - loss: 0.1500\n",
            "Epoch 61/100\n",
            "5/5 [==============================] - 0s 3ms/step - loss: 0.1482\n",
            "Epoch 62/100\n",
            "5/5 [==============================] - 0s 5ms/step - loss: 0.1465\n",
            "Epoch 63/100\n",
            "5/5 [==============================] - 0s 3ms/step - loss: 0.1452\n",
            "Epoch 64/100\n",
            "5/5 [==============================] - 0s 4ms/step - loss: 0.1434\n",
            "Epoch 65/100\n",
            "5/5 [==============================] - 0s 3ms/step - loss: 0.1421\n",
            "Epoch 66/100\n",
            "5/5 [==============================] - 0s 3ms/step - loss: 0.1407\n",
            "Epoch 67/100\n",
            "5/5 [==============================] - 0s 3ms/step - loss: 0.1393\n",
            "Epoch 68/100\n",
            "5/5 [==============================] - 0s 3ms/step - loss: 0.1386\n",
            "Epoch 69/100\n",
            "5/5 [==============================] - 0s 3ms/step - loss: 0.1370\n",
            "Epoch 70/100\n",
            "5/5 [==============================] - 0s 3ms/step - loss: 0.1357\n",
            "Epoch 71/100\n",
            "5/5 [==============================] - 0s 3ms/step - loss: 0.1352\n",
            "Epoch 72/100\n",
            "5/5 [==============================] - 0s 3ms/step - loss: 0.1339\n",
            "Epoch 73/100\n",
            "5/5 [==============================] - 0s 3ms/step - loss: 0.1332\n",
            "Epoch 74/100\n",
            "5/5 [==============================] - 0s 3ms/step - loss: 0.1322\n",
            "Epoch 75/100\n",
            "5/5 [==============================] - 0s 4ms/step - loss: 0.1312\n",
            "Epoch 76/100\n",
            "5/5 [==============================] - 0s 4ms/step - loss: 0.1308\n",
            "Epoch 77/100\n",
            "5/5 [==============================] - 0s 3ms/step - loss: 0.1300\n",
            "Epoch 78/100\n",
            "5/5 [==============================] - 0s 4ms/step - loss: 0.1292\n",
            "Epoch 79/100\n",
            "5/5 [==============================] - 0s 4ms/step - loss: 0.1283\n",
            "Epoch 80/100\n",
            "5/5 [==============================] - 0s 3ms/step - loss: 0.1278\n",
            "Epoch 81/100\n",
            "5/5 [==============================] - 0s 3ms/step - loss: 0.1276\n",
            "Epoch 82/100\n",
            "5/5 [==============================] - 0s 4ms/step - loss: 0.1267\n",
            "Epoch 83/100\n",
            "5/5 [==============================] - 0s 4ms/step - loss: 0.1262\n",
            "Epoch 84/100\n",
            "5/5 [==============================] - 0s 3ms/step - loss: 0.1262\n",
            "Epoch 85/100\n",
            "5/5 [==============================] - 0s 3ms/step - loss: 0.1253\n",
            "Epoch 86/100\n",
            "5/5 [==============================] - 0s 4ms/step - loss: 0.1250\n",
            "Epoch 87/100\n",
            "5/5 [==============================] - 0s 4ms/step - loss: 0.1244\n",
            "Epoch 88/100\n",
            "5/5 [==============================] - 0s 4ms/step - loss: 0.1241\n",
            "Epoch 89/100\n",
            "5/5 [==============================] - 0s 3ms/step - loss: 0.1240\n",
            "Epoch 90/100\n",
            "5/5 [==============================] - 0s 3ms/step - loss: 0.1236\n",
            "Epoch 91/100\n",
            "5/5 [==============================] - 0s 3ms/step - loss: 0.1232\n",
            "Epoch 92/100\n",
            "5/5 [==============================] - 0s 4ms/step - loss: 0.1230\n",
            "Epoch 93/100\n",
            "5/5 [==============================] - 0s 3ms/step - loss: 0.1227\n",
            "Epoch 94/100\n",
            "5/5 [==============================] - 0s 4ms/step - loss: 0.1224\n",
            "Epoch 95/100\n",
            "5/5 [==============================] - 0s 3ms/step - loss: 0.1224\n",
            "Epoch 96/100\n",
            "5/5 [==============================] - 0s 4ms/step - loss: 0.1219\n",
            "Epoch 97/100\n",
            "5/5 [==============================] - 0s 4ms/step - loss: 0.1219\n",
            "Epoch 98/100\n",
            "5/5 [==============================] - 0s 3ms/step - loss: 0.1217\n",
            "Epoch 99/100\n",
            "5/5 [==============================] - 0s 3ms/step - loss: 0.1214\n",
            "Epoch 100/100\n",
            "5/5 [==============================] - 0s 3ms/step - loss: 0.1213\n"
          ]
        },
        {
          "output_type": "execute_result",
          "data": {
            "text/plain": [
              "<keras.src.callbacks.History at 0x7baa03d85c30>"
            ]
          },
          "metadata": {},
          "execution_count": 17
        }
      ]
    },
    {
      "cell_type": "code",
      "source": [
        "model.summary()"
      ],
      "metadata": {
        "colab": {
          "base_uri": "https://localhost:8080/"
        },
        "id": "oMUH1Oh5Kqem",
        "outputId": "e4736182-d38a-429b-de54-69e34445fc38"
      },
      "execution_count": null,
      "outputs": [
        {
          "output_type": "stream",
          "name": "stdout",
          "text": [
            "Model: \"sequential_2\"\n",
            "_________________________________________________________________\n",
            " Layer (type)                Output Shape              Param #   \n",
            "=================================================================\n",
            " lstm_2 (LSTM)               (None, 4)                 96        \n",
            "                                                                 \n",
            " dense_2 (Dense)             (None, 1)                 5         \n",
            "                                                                 \n",
            "=================================================================\n",
            "Total params: 101 (404.00 Byte)\n",
            "Trainable params: 101 (404.00 Byte)\n",
            "Non-trainable params: 0 (0.00 Byte)\n",
            "_________________________________________________________________\n"
          ]
        }
      ]
    },
    {
      "cell_type": "code",
      "source": [
        "from sklearn.preprocessing import MinMaxScaler\n",
        "\n",
        "# Assuming you have already defined and trained your model\n",
        "# model = ...\n",
        "\n",
        "# Extracting the test set\n",
        "test_set = df_test.values[1:]\n",
        "\n",
        "# Fitting the MinMaxScaler on the training data\n",
        "sc = MinMaxScaler()\n",
        "sc.fit(np.reshape(df_train.values, (len(df_train), 1)))\n",
        "\n",
        "# Transforming the test set\n",
        "inputs = np.reshape(df_test.values[0:len(df_test)-1], (len(test_set), 1))\n",
        "inputs = sc.transform(inputs)\n",
        "inputs = np.reshape(inputs, (len(inputs), 1, 1))\n",
        "\n",
        "# Making predictions\n",
        "predicted_BTC_price = model.predict(inputs)\n",
        "\n",
        "# Inversely transforming the predicted values back to the original scale\n",
        "predicted_BTC_price = sc.inverse_transform(predicted_BTC_price)"
      ],
      "metadata": {
        "colab": {
          "base_uri": "https://localhost:8080/"
        },
        "id": "vxs6UpjRLNNT",
        "outputId": "42e15247-6ac7-4cb8-a824-be6b49e1ae0a"
      },
      "execution_count": null,
      "outputs": [
        {
          "output_type": "stream",
          "name": "stdout",
          "text": [
            "1/1 [==============================] - 0s 186ms/step\n"
          ]
        }
      ]
    },
    {
      "cell_type": "code",
      "source": [
        "# Visualising the results\n",
        "plt.figure(figsize=(25,15), dpi=80, facecolor='w', edgecolor='k')\n",
        "ax = plt.gca()\n",
        "plt.plot(test_set, color = 'red', label = 'Real BTC Price')\n",
        "plt.plot(predicted_BTC_price, color = 'blue', label = 'Predicted BTC Price')\n",
        "plt.title('BTC Price Prediction', fontsize=40)\n",
        "df_test = df_test.reset_index()\n",
        "x=df_test.index\n",
        "labels = df_test['Date']\n",
        "plt.xticks(x, labels, rotation = 'vertical')\n",
        "for tick in ax.xaxis.get_major_ticks():\n",
        "    tick.label1.set_fontsize(18)\n",
        "for tick in ax.yaxis.get_major_ticks():\n",
        "    tick.label1.set_fontsize(18)\n",
        "plt.xlabel('Time', fontsize=40)\n",
        "plt.ylabel('BTC Price(USD)', fontsize=40)\n",
        "plt.legend(loc=2, prop={'size': 25})\n",
        "plt.show()"
      ],
      "metadata": {
        "colab": {
          "base_uri": "https://localhost:8080/",
          "height": 582
        },
        "id": "awks5zJoLNDg",
        "outputId": "8244d1df-4a5e-4782-f332-0db50b594b70"
      },
      "execution_count": null,
      "outputs": [
        {
          "output_type": "display_data",
          "data": {
            "text/plain": [
              "<Figure size 2000x1200 with 1 Axes>"
            ],
            "image/png": "[encoded data removed]"
          },
          "metadata": {}
        }
      ]
    },
    {
      "cell_type": "code",
      "source": [],
      "metadata": {
        "id": "dxOl5YgoM3VJ"
      },
      "execution_count": null,
      "outputs": []
    }
  ]
}