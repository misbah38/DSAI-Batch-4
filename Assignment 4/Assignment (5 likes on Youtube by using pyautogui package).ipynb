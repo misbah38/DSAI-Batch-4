{
 "cells": [
  {
   "cell_type": "markdown",
   "id": "10aa449c",
   "metadata": {},
   "source": [
    "## <center>Assignment</center>\n",
    "                        "
   ]
  },
  {
   "cell_type": "markdown",
   "id": "4c022ad7",
   "metadata": {},
   "source": [
    "#### Like 5 Youtube videos by using PyautoGui Package"
   ]
  },
  {
   "cell_type": "markdown",
   "id": "f10611f7",
   "metadata": {},
   "source": [
    "### 1st Method "
   ]
  },
  {
   "cell_type": "code",
   "execution_count": 1,
   "id": "bb45b90c",
   "metadata": {},
   "outputs": [
    {
     "data": {
      "text/plain": [
       "Point(x=633, y=291)"
      ]
     },
     "execution_count": 1,
     "metadata": {},
     "output_type": "execute_result"
    }
   ],
   "source": [
    "import pyautogui,time\n",
    "pyautogui.position()"
   ]
  },
  {
   "cell_type": "code",
   "execution_count": null,
   "id": "f54457ab",
   "metadata": {},
   "outputs": [],
   "source": [
    "pyautogui.click(270,23,duration=2)\n",
    "pyautogui.doubleClick(358,51,duration=2)\n",
    "pyautogui.typewrite(\"https://www.youtube.com/@enggqasim\")\n",
    "pyautogui.keyDown(\"enter\")\n",
    "pyautogui.sleep(5)\n",
    "pyautogui.doubleClick(660,428,duration=3)\n",
    "pyautogui.sleep(5)\n",
    "time.sleep(2)\n",
    "pyautogui.scroll(-500)\n",
    "pyautogui.doubleClick(764,570,duration=2)\n",
    "\n",
    "for i in range(6):\n",
    "    \n",
    "    pyautogui.click(536,698,duration=2)\n",
    "    pyautogui.sleep(5)\n",
    "    pyautogui.click(163,608,duration=2)"
   ]
  },
  {
   "cell_type": "markdown",
   "id": "1a8caa15",
   "metadata": {},
   "source": [
    "### 2nd Method"
   ]
  },
  {
   "cell_type": "code",
   "execution_count": null,
   "id": "4e6733ac",
   "metadata": {},
   "outputs": [],
   "source": [
    "pyautogui.click(270,23,duration=2)\n",
    "pyautogui.doubleClick(358,51,duration=2)\n",
    "pyautogui.typewrite(\"https://www.youtube.com/@enggqasim\")\n",
    "pyautogui.keyDown(\"enter\")\n",
    "pyautogui.sleep(5)\n",
    "pyautogui.doubleClick(660,428,duration=3)\n",
    "pyautogui.sleep(5)\n",
    "time.sleep(2)\n",
    "pyautogui.scroll(-500)\n",
    "pyautogui.doubleClick(764,570,duration=2)\n",
    "# 1st like\n",
    "pyautogui.click(536,698,duration=2)\n",
    "pyautogui.sleep(5)\n",
    "pyautogui.click(163,608,duration=2)\n",
    "# 2nd like\n",
    "pyautogui.click(536,698,duration=2)\n",
    "pyautogui.sleep(5)\n",
    "pyautogui.click(163,608,duration=2)\n",
    "# 3rd like\n",
    "pyautogui.click(536,698,duration=2)\n",
    "pyautogui.sleep(5)\n",
    "pyautogui.click(163,608,duration=2)\n",
    "# 4th like\n",
    "pyautogui.click(536,698,duration=2)\n",
    "pyautogui.sleep(5)\n",
    "pyautogui.click(163,608,duration=2)\n",
    "# 5th like\n",
    "pyautogui.click(536,698,duration=2)\n",
    "pyautogui.sleep(5)\n",
    "pyautogui.click(163,608,duration=2)\n",
    "# last like\n",
    "pyautogui.click(536,698,duration=2)"
   ]
  }
 ],
 "metadata": {
  "kernelspec": {
   "display_name": "Python 3 (ipykernel)",
   "language": "python",
   "name": "python3"
  },
  "language_info": {
   "codemirror_mode": {
    "name": "ipython",
    "version": 3
   },
   "file_extension": ".py",
   "mimetype": "text/x-python",
   "name": "python",
   "nbconvert_exporter": "python",
   "pygments_lexer": "ipython3",
   "version": "3.9.12"
  }
 },
 "nbformat": 4,
 "nbformat_minor": 5
}
