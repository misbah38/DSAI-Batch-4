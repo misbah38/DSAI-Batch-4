{
 "cells": [
  {
   "cell_type": "markdown",
   "id": "40d046da",
   "metadata": {},
   "source": [
    "# <center>Assignment 3</center>"
   ]
  },
  {
   "cell_type": "markdown",
   "id": "26e865a8",
   "metadata": {},
   "source": [
    "## List Method"
   ]
  },
  {
   "cell_type": "markdown",
   "id": "38f7c4d3",
   "metadata": {},
   "source": [
    "### Slicing"
   ]
  },
  {
   "cell_type": "code",
   "execution_count": 65,
   "id": "079f9ef0",
   "metadata": {},
   "outputs": [
    {
     "data": {
      "text/plain": [
       "[1, 2, 3, 4, 5, 6, 7, 8, 9, 10, 20, 30, 40, 50]"
      ]
     },
     "execution_count": 65,
     "metadata": {},
     "output_type": "execute_result"
    }
   ],
   "source": [
    "a=[1,2,3,4,5,6,7,8,9,10,20,30,40,50]\n",
    "a"
   ]
  },
  {
   "cell_type": "code",
   "execution_count": 66,
   "id": "9c65c314",
   "metadata": {},
   "outputs": [
    {
     "name": "stdout",
     "output_type": "stream",
     "text": [
      "[1, 2, 3, 4, 5, 6]\n"
     ]
    }
   ],
   "source": [
    "print(a[0:6])#stat:end"
   ]
  },
  {
   "cell_type": "code",
   "execution_count": 67,
   "id": "05685236",
   "metadata": {},
   "outputs": [
    {
     "name": "stdout",
     "output_type": "stream",
     "text": [
      "[1, 3, 5, 7, 9, 20, 40]\n"
     ]
    }
   ],
   "source": [
    "print(a[0:15:2])#start:end:step"
   ]
  },
  {
   "cell_type": "markdown",
   "id": "02d0ddc5",
   "metadata": {},
   "source": [
    "### Append"
   ]
  },
  {
   "cell_type": "code",
   "execution_count": 5,
   "id": "a43e223f",
   "metadata": {},
   "outputs": [
    {
     "name": "stdout",
     "output_type": "stream",
     "text": [
      "['oval', 'Circle', 'Rectangle', 'square']\n"
     ]
    }
   ],
   "source": [
    "shapes=[\"oval\",\"Circle\",\"Rectangle\"]\n",
    "shapes.append(\"square\")\n",
    "print(shapes)\n"
   ]
  },
  {
   "cell_type": "markdown",
   "id": "5ff025fe",
   "metadata": {},
   "source": [
    "### Copy"
   ]
  },
  {
   "cell_type": "code",
   "execution_count": 26,
   "id": "6eda7e15",
   "metadata": {},
   "outputs": [
    {
     "name": "stdout",
     "output_type": "stream",
     "text": [
      "[10, 3, 2, 4, 9] 2077456235392\n",
      "[10, 3, 2, 4, 9] 2077456235392\n"
     ]
    }
   ],
   "source": [
    "# Shallow copy\n",
    "a=[1,4,6,3,4]\n",
    "b=[5,3,2,4,9]\n",
    "a=b\n",
    "b[0]=10\n",
    "print(a,id(a))\n",
    "print(b,id(b))\n"
   ]
  },
  {
   "cell_type": "code",
   "execution_count": 14,
   "id": "d981982e",
   "metadata": {},
   "outputs": [
    {
     "name": "stdout",
     "output_type": "stream",
     "text": [
      "[1, 4, 6, 3, 4] 2077455508480\n",
      "[1, 4, 6, 3, 4] 2077455507200\n",
      "[1, 12, 6, 3, 4] 2077455507200\n"
     ]
    }
   ],
   "source": [
    "#Deep copy\n",
    "a=[1,4,6,3,4]\n",
    "b=a.copy()\n",
    "print(a,id(a))\n",
    "print(b,id(b))\n",
    "\n",
    "b[1]=12\n",
    "print(b,id(b))"
   ]
  },
  {
   "cell_type": "markdown",
   "id": "222e15dd",
   "metadata": {},
   "source": [
    "### Clear"
   ]
  },
  {
   "cell_type": "code",
   "execution_count": 19,
   "id": "ca615f55",
   "metadata": {},
   "outputs": [
    {
     "data": {
      "text/plain": [
       "[]"
      ]
     },
     "execution_count": 19,
     "metadata": {},
     "output_type": "execute_result"
    }
   ],
   "source": [
    "a=[1,4,6,3,4]\n",
    "a.clear()\n",
    "a\n"
   ]
  },
  {
   "cell_type": "markdown",
   "id": "0c212fb9",
   "metadata": {},
   "source": [
    "### Count"
   ]
  },
  {
   "cell_type": "code",
   "execution_count": 36,
   "id": "3a1105d5",
   "metadata": {},
   "outputs": [
    {
     "name": "stdout",
     "output_type": "stream",
     "text": [
      "3\n",
      "2\n",
      "7\n"
     ]
    }
   ],
   "source": [
    "shapes=[\"oval\",\"circle\",\"rectangle\",\"oval\",\"circle\",\"oval\",\"square\"]\n",
    "print(shapes.count(\"oval\"))\n",
    "print(shapes.count(\"circle\"))\n",
    "print(len(shapes))\n"
   ]
  },
  {
   "cell_type": "markdown",
   "id": "eb3e04ee",
   "metadata": {},
   "source": [
    "### Extend"
   ]
  },
  {
   "cell_type": "code",
   "execution_count": 38,
   "id": "8d12d3b2",
   "metadata": {},
   "outputs": [
    {
     "name": "stdout",
     "output_type": "stream",
     "text": [
      "[1, 4, 6, 3, 4, 'oval', 'circle', 'rectangle', 'oval', 'circle', 'oval', 'square']\n"
     ]
    }
   ],
   "source": [
    "a=[1,4,6,3,4]\n",
    "b=[\"oval\",\"circle\",\"rectangle\",\"oval\",\"circle\",\"oval\",\"square\"]\n",
    "a.extend(b)\n",
    "print(a)"
   ]
  },
  {
   "cell_type": "markdown",
   "id": "d2220798",
   "metadata": {},
   "source": [
    "### Index"
   ]
  },
  {
   "cell_type": "code",
   "execution_count": 43,
   "id": "258c024b",
   "metadata": {},
   "outputs": [
    {
     "name": "stdout",
     "output_type": "stream",
     "text": [
      "5\n",
      "1\n",
      "11\n"
     ]
    }
   ],
   "source": [
    "a=[1, 4, 6, 3, 4, 'oval', 'circle', 'rectangle', 'oval', 'circle', 'oval', 'square']\n",
    "print(a.index(\"oval\"))\n",
    "print(a.index(4))\n",
    "print(a.index(\"square\"))"
   ]
  },
  {
   "cell_type": "markdown",
   "id": "0b37511a",
   "metadata": {},
   "source": [
    "### Insert"
   ]
  },
  {
   "cell_type": "code",
   "execution_count": 45,
   "id": "2d5c2c27",
   "metadata": {},
   "outputs": [
    {
     "name": "stdout",
     "output_type": "stream",
     "text": [
      "[1, 4, 'pentagon', 6, 3, 4, 'oval', 'circle', 'rectangle', 'oval', 'circle', 'oval', 'square']\n"
     ]
    }
   ],
   "source": [
    "a=[1, 4, 6, 3, 4, 'oval', 'circle', 'rectangle', 'oval', 'circle', 'oval', 'square']\n",
    "a.insert(2,\"pentagon\")\n",
    "print(a)"
   ]
  },
  {
   "cell_type": "markdown",
   "id": "91b252b6",
   "metadata": {},
   "source": [
    "### Pop"
   ]
  },
  {
   "cell_type": "code",
   "execution_count": 49,
   "id": "54c05d87",
   "metadata": {},
   "outputs": [
    {
     "name": "stdout",
     "output_type": "stream",
     "text": [
      "[1, 4, 6, 3, 4, 'oval', 'circle', 'rectangle', 'oval', 'circle', 'oval']\n"
     ]
    }
   ],
   "source": [
    "a=[1, 4, 6, 3, 4, 'oval', 'circle', 'rectangle', 'oval', 'circle', 'oval', 'square']\n",
    "a.pop()\n",
    "print(a)"
   ]
  },
  {
   "cell_type": "markdown",
   "id": "3253ed0c",
   "metadata": {},
   "source": [
    "### Remove"
   ]
  },
  {
   "cell_type": "code",
   "execution_count": 60,
   "id": "faa72cbb",
   "metadata": {},
   "outputs": [
    {
     "name": "stdout",
     "output_type": "stream",
     "text": [
      "[1, 4, 6, 3, 4, 'oval', 'circle', 'rectangle', 'oval', 'circle', 'oval', 'square']\n"
     ]
    }
   ],
   "source": [
    "a=[1, 4, 'pentagon', 6, 3, 4, 'oval', 'circle', 'rectangle', 'oval', 'circle', 'oval', 'square']\n",
    "a.remove(\"pentagon\")\n",
    "print(a)"
   ]
  },
  {
   "cell_type": "markdown",
   "id": "c6c9bd6d",
   "metadata": {},
   "source": [
    "### Sort"
   ]
  },
  {
   "cell_type": "code",
   "execution_count": 54,
   "id": "5d8697d2",
   "metadata": {},
   "outputs": [
    {
     "name": "stdout",
     "output_type": "stream",
     "text": [
      "['circle', 'circle', 'oval', 'oval', 'oval', 'rectangle', 'square']\n"
     ]
    }
   ],
   "source": [
    "# Ascending order\n",
    "a=['oval', 'circle', 'rectangle', 'oval', 'circle', 'oval', 'square']\n",
    "a.sort()\n",
    "print(a)"
   ]
  },
  {
   "cell_type": "code",
   "execution_count": 59,
   "id": "ee02b7dc",
   "metadata": {},
   "outputs": [
    {
     "name": "stdout",
     "output_type": "stream",
     "text": [
      "['square', 'rectangle', 'oval', 'oval', 'oval', 'circle', 'circle']\n"
     ]
    }
   ],
   "source": [
    "#descending order\n",
    "a=['oval', 'circle', 'rectangle', 'oval', 'circle', 'oval', 'square']\n",
    "a.sort()\n",
    "a.reverse()\n",
    "print(a)"
   ]
  },
  {
   "cell_type": "code",
   "execution_count": 58,
   "id": "d804a30a",
   "metadata": {},
   "outputs": [
    {
     "name": "stdout",
     "output_type": "stream",
     "text": [
      "['square', 'rectangle', 'oval', 'oval', 'oval', 'circle', 'circle']\n"
     ]
    }
   ],
   "source": [
    "a=['oval', 'circle', 'rectangle', 'oval', 'circle', 'oval', 'square']\n",
    "a.sort(reverse=True)\n",
    "print(a)"
   ]
  }
 ],
 "metadata": {
  "kernelspec": {
   "display_name": "Python 3 (ipykernel)",
   "language": "python",
   "name": "python3"
  },
  "language_info": {
   "codemirror_mode": {
    "name": "ipython",
    "version": 3
   },
   "file_extension": ".py",
   "mimetype": "text/x-python",
   "name": "python",
   "nbconvert_exporter": "python",
   "pygments_lexer": "ipython3",
   "version": "3.9.13"
  }
 },
 "nbformat": 4,
 "nbformat_minor": 5
}
