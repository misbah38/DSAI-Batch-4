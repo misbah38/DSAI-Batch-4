{
 "cells": [
  {
   "cell_type": "markdown",
   "id": "9b0b430b",
   "metadata": {},
   "source": [
    "# <center>1st Exercise</center>"
   ]
  },
  {
   "cell_type": "markdown",
   "id": "bbe11d03",
   "metadata": {},
   "source": [
    "# 1. Concatination Method"
   ]
  },
  {
   "cell_type": "code",
   "execution_count": 53,
   "id": "d3b62203",
   "metadata": {},
   "outputs": [
    {
     "name": "stdout",
     "output_type": "stream",
     "text": [
      "\n",
      "Patient's Bill Reciept\n",
      "OPD\n",
      "Name:Fariya Ali   Date:2023-01-16\n",
      "Age:30            Gender:Female\n",
      "Consultant:Dr. Muhammad hasnain\n"
     ]
    }
   ],
   "source": [
    "patient_name=\"Fariya Ali\"\n",
    "date=\"2023-01-16\"\n",
    "age=30\n",
    "gender=\"Female\"\n",
    "consultant=\"Dr. Muhammad hasnain\"\n",
    "\n",
    "patient_slip=\"\"\"\n",
    "Patient's Bill Reciept\n",
    "OPD\n",
    "Name:\"\"\"+str(patient_name)+\"\"\"   Date:\"\"\"+str(date)+\"\"\"\n",
    "Age:\"\"\"+str(age)+\"\"\"            Gender:\"\"\"+str(gender)+\"\"\"\n",
    "Consultant:\"\"\"+str(consultant)\n",
    "print(patient_slip)"
   ]
  },
  {
   "cell_type": "markdown",
   "id": "80788eb8",
   "metadata": {},
   "source": [
    "# 2. Sequence formatting Method"
   ]
  },
  {
   "cell_type": "code",
   "execution_count": 51,
   "id": "0a128ece",
   "metadata": {},
   "outputs": [
    {
     "name": "stdout",
     "output_type": "stream",
     "text": [
      "\n",
      "Patient's Bill Reciept\n",
      "OPD\n",
      "Name:Fariya Ali  Date:2023-01-16\n",
      "Age:30  Gender:Female\n",
      "Consultant:Dr. Muhammad hasnain\n",
      "\n"
     ]
    }
   ],
   "source": [
    "patient_name=\"Fariya Ali\"\n",
    "date=\"2023-01-16\"\n",
    "age=30\n",
    "gender=\"Female\"\n",
    "consultant=\"Dr. Muhammad hasnain\"\n",
    "\n",
    "patient_slip=\"\"\"\n",
    "Patient's Bill Reciept\n",
    "OPD\n",
    "Name:{}  Date:{}\n",
    "Age:{}  Gender:{}\n",
    "Consultant:{}\n",
    "\"\"\".format(patient_name,date,age,gender,consultant)\n",
    "print(patient_slip)"
   ]
  },
  {
   "cell_type": "markdown",
   "id": "bf223e0a",
   "metadata": {},
   "source": [
    "# 3. Indexing formatting Method"
   ]
  },
  {
   "cell_type": "code",
   "execution_count": 50,
   "id": "b608d251",
   "metadata": {},
   "outputs": [
    {
     "name": "stdout",
     "output_type": "stream",
     "text": [
      "\n",
      "Patient's Bill Reciept\n",
      "OPD\n",
      "Name:Fariya Ali     Date:2023-01-16\n",
      "Age:30      Gender:Female\n",
      "Consultant:Dr. Muhammad hasnain\n",
      "\n"
     ]
    }
   ],
   "source": [
    "patient_name=\"Fariya Ali\"\n",
    "date=\"2023-01-16\"\n",
    "age=30\n",
    "gender=\"Female\"\n",
    "consultant=\"Dr. Muhammad hasnain\"\n",
    "\n",
    "patient_slip=\"\"\"\n",
    "Patient's Bill Reciept\n",
    "OPD\n",
    "Name:{2}     Date:{0}\n",
    "Age:{1}      Gender:{4}\n",
    "Consultant:{3}\n",
    "\"\"\".format(date,age,patient_name,consultant,gender)\n",
    "print(patient_slip)"
   ]
  },
  {
   "cell_type": "markdown",
   "id": "820ec2eb",
   "metadata": {},
   "source": [
    "# 4. f\" Method"
   ]
  },
  {
   "cell_type": "code",
   "execution_count": 25,
   "id": "1c1f7216",
   "metadata": {},
   "outputs": [
    {
     "name": "stdout",
     "output_type": "stream",
     "text": [
      "\n",
      "Patient's Bill Reciept\n",
      "OPD\n",
      "Name:Fariya Ali    Date:2023-01-16\n",
      "Age:30             Gender:Female\n",
      "Consultant:Dr. Muhammad hasnain\n",
      "\n"
     ]
    }
   ],
   "source": [
    "patient_name=\"Fariya Ali\"\n",
    "date=\"2023-01-16\"\n",
    "age=30\n",
    "gender=\"Female\"\n",
    "consultant=\"Dr. Muhammad hasnain\"\n",
    "\n",
    "patient_slip= f\"\"\"\n",
    "Patient's Bill Reciept\n",
    "OPD\n",
    "Name:{patient_name}    Date:{date}\n",
    "Age:{age}             Gender:{gender}\n",
    "Consultant:{consultant}\n",
    "\"\"\"\n",
    "print(patient_slip.ljust(15))"
   ]
  },
  {
   "cell_type": "markdown",
   "id": "7fa301db",
   "metadata": {},
   "source": [
    "# 5. Old Method "
   ]
  },
  {
   "cell_type": "code",
   "execution_count": 48,
   "id": "f9d746e6",
   "metadata": {},
   "outputs": [
    {
     "name": "stdout",
     "output_type": "stream",
     "text": [
      "\n",
      "Patient's Bill Reciept\n",
      "OPD\n",
      "Name:Fariya Ali  Date:2023-01-16\n",
      "Age:30  Gender:Female\n",
      "Consultant:Dr. Muhammad hasnain\n",
      "\n"
     ]
    }
   ],
   "source": [
    "patient_name=\"Fariya Ali\"\n",
    "date=\"2023-01-16\"\n",
    "age=30\n",
    "gender=\"Female\"\n",
    "consultant=\"Dr. Muhammad hasnain\"\n",
    "\n",
    "patient_slip=\"\"\"\n",
    "Patient's Bill Reciept\n",
    "OPD\n",
    "Name:%s  Date:%s\n",
    "Age:%d  Gender:%s\n",
    "Consultant:%s\n",
    "\"\"\"%(patient_name,date,age,gender,consultant)\n",
    "print(patient_slip)"
   ]
  },
  {
   "cell_type": "markdown",
   "id": "87534d96",
   "metadata": {},
   "source": [
    "# 6. Import from excel file"
   ]
  },
  {
   "cell_type": "code",
   "execution_count": 31,
   "id": "1a849aba",
   "metadata": {},
   "outputs": [
    {
     "name": "stdout",
     "output_type": "stream",
     "text": [
      "              Name       Date  Age  Gender            Consultant\n",
      "0       Fariya Ali 2023-01-15   30  Female  Dr. Muhammad Hasnain\n",
      "1  Kainat Sarfaraz 2023-01-15   25  Female  Dr. Muhammad Hasnain\n",
      "2     Misbah Sabir 2023-01-15   26  Female             Dr. Arham\n",
      "3   Muhammad Talha 2023-01-16    8    Male     Dr. Jameel Akhtar\n",
      "4    Ibrahim Ahmed 2023-01-16   12    Male        Dr. Fida Ahmed\n",
      "5   Zainab Tauseef 2023-01-16   15  Female           Dr. Samreen\n",
      "6         Mrs.Arif 2023-01-17   58  Female           Dr. Samreen\n",
      "7      Yusha Ahmed 2023-01-17    4    Male     Dr. Jameel Akhtar\n",
      "8     Fatima fahad 2023-01-17   22   Femae           Dr. Samreen\n",
      "9       saad Tariq 2023-01-17   38    Male  Dr. Muhammad Hasnain\n"
     ]
    }
   ],
   "source": [
    "import pandas as pd\n",
    "import numpy as np\n",
    "df=pd.read_excel('patient.xlsx')\n",
    "print(df)"
   ]
  },
  {
   "cell_type": "code",
   "execution_count": 34,
   "id": "b5e6d0ea",
   "metadata": {},
   "outputs": [
    {
     "name": "stdout",
     "output_type": "stream",
     "text": [
      "\n",
      "    Patient's Bill Reciept\n",
      "    Name:Fariya Ali  Date: 2023-01-15 00:00:00 \n",
      "    Age: 30   Gender:Female\n",
      "    Consultant: Dr. Muhammad Hasnain\n",
      "    \n",
      "=====================\n",
      "\n",
      "    Patient's Bill Reciept\n",
      "    Name:Kainat Sarfaraz  Date: 2023-01-15 00:00:00 \n",
      "    Age: 25   Gender:Female\n",
      "    Consultant: Dr. Muhammad Hasnain\n",
      "    \n",
      "=====================\n",
      "\n",
      "    Patient's Bill Reciept\n",
      "    Name:Misbah Sabir  Date: 2023-01-15 00:00:00 \n",
      "    Age: 26   Gender:Female\n",
      "    Consultant: Dr. Arham\n",
      "    \n",
      "=====================\n",
      "\n",
      "    Patient's Bill Reciept\n",
      "    Name:Muhammad Talha  Date: 2023-01-16 00:00:00 \n",
      "    Age: 8   Gender:Male\n",
      "    Consultant: Dr. Jameel Akhtar\n",
      "    \n",
      "=====================\n",
      "\n",
      "    Patient's Bill Reciept\n",
      "    Name:Ibrahim Ahmed  Date: 2023-01-16 00:00:00 \n",
      "    Age: 12   Gender:Male\n",
      "    Consultant: Dr. Fida Ahmed\n",
      "    \n",
      "=====================\n",
      "\n",
      "    Patient's Bill Reciept\n",
      "    Name:Zainab Tauseef  Date: 2023-01-16 00:00:00 \n",
      "    Age: 15   Gender:Female\n",
      "    Consultant: Dr. Samreen\n",
      "    \n",
      "=====================\n",
      "\n",
      "    Patient's Bill Reciept\n",
      "    Name:Mrs.Arif  Date: 2023-01-17 00:00:00 \n",
      "    Age: 58   Gender:Female\n",
      "    Consultant: Dr. Samreen\n",
      "    \n",
      "=====================\n",
      "\n",
      "    Patient's Bill Reciept\n",
      "    Name:Yusha Ahmed  Date: 2023-01-17 00:00:00 \n",
      "    Age: 4   Gender:Male\n",
      "    Consultant: Dr. Jameel Akhtar\n",
      "    \n",
      "=====================\n",
      "\n",
      "    Patient's Bill Reciept\n",
      "    Name:Fatima fahad  Date: 2023-01-17 00:00:00 \n",
      "    Age: 22   Gender:Femae\n",
      "    Consultant: Dr. Samreen\n",
      "    \n",
      "=====================\n",
      "\n",
      "    Patient's Bill Reciept\n",
      "    Name:saad Tariq  Date: 2023-01-17 00:00:00 \n",
      "    Age: 38   Gender:Male\n",
      "    Consultant: Dr. Muhammad Hasnain\n",
      "    \n",
      "=====================\n"
     ]
    }
   ],
   "source": [
    "for Name,Date,Age,Gender,Consultant in df.values:\n",
    "    patient_slip = f\"\"\"\n",
    "    Patient's Bill Reciept\n",
    "    Name:{Name}  Date: {Date} \n",
    "    Age: {Age}   Gender:{Gender}\n",
    "    Consultant: {Consultant}\n",
    "    \"\"\" \n",
    "    print(patient_slip)\n",
    "    print('=====================')"
   ]
  },
  {
   "cell_type": "markdown",
   "id": "264b23ae",
   "metadata": {},
   "source": [
    "# <center><b>2nd Exercise </b></center>"
   ]
  },
  {
   "cell_type": "markdown",
   "id": "cfe41259",
   "metadata": {},
   "source": [
    "# Differrent Formatting Method\n",
    "## Capitalize"
   ]
  },
  {
   "cell_type": "code",
   "execution_count": 56,
   "id": "2b4df949",
   "metadata": {},
   "outputs": [
    {
     "name": "stdout",
     "output_type": "stream",
     "text": [
      "Fariya ali\n"
     ]
    }
   ],
   "source": [
    "patient_name=\"Fariya Ali\"\n",
    "print(patient_name.capitalize())"
   ]
  },
  {
   "cell_type": "markdown",
   "id": "9df27273",
   "metadata": {},
   "source": [
    "## Casefold"
   ]
  },
  {
   "cell_type": "code",
   "execution_count": 57,
   "id": "d7c6a1af",
   "metadata": {},
   "outputs": [
    {
     "name": "stdout",
     "output_type": "stream",
     "text": [
      "fariya ali\n"
     ]
    }
   ],
   "source": [
    "patient_name=\"Fariya Ali\"\n",
    "print(patient_name.casefold())"
   ]
  },
  {
   "cell_type": "markdown",
   "id": "84d88238",
   "metadata": {},
   "source": [
    "## Center"
   ]
  },
  {
   "cell_type": "code",
   "execution_count": 59,
   "id": "c6a12530",
   "metadata": {},
   "outputs": [
    {
     "name": "stdout",
     "output_type": "stream",
     "text": [
      "        Fariya Ali       \n"
     ]
    }
   ],
   "source": [
    "patient_name=\"Fariya Ali\"\n",
    "print(patient_name.center(25))"
   ]
  },
  {
   "cell_type": "markdown",
   "id": "6d0373cf",
   "metadata": {},
   "source": [
    "## Count"
   ]
  },
  {
   "cell_type": "code",
   "execution_count": 65,
   "id": "69f513e1",
   "metadata": {},
   "outputs": [
    {
     "name": "stdout",
     "output_type": "stream",
     "text": [
      "3\n"
     ]
    }
   ],
   "source": [
    "patient_name=\"Fariya Ali\"\n",
    "print(patient_name.count('a'))"
   ]
  },
  {
   "cell_type": "code",
   "execution_count": 67,
   "id": "dc8f36a9",
   "metadata": {},
   "outputs": [
    {
     "name": "stdout",
     "output_type": "stream",
     "text": [
      "11\n"
     ]
    }
   ],
   "source": [
    "patient_name=\"Fariya Ali\"\n",
    "print(patient_name.count(''))"
   ]
  },
  {
   "cell_type": "markdown",
   "id": "9c53ccb4",
   "metadata": {},
   "source": [
    "## Encode\n"
   ]
  },
  {
   "cell_type": "code",
   "execution_count": 66,
   "id": "39ee3bf6",
   "metadata": {},
   "outputs": [
    {
     "name": "stdout",
     "output_type": "stream",
     "text": [
      "b'Fariya Ali'\n"
     ]
    }
   ],
   "source": [
    "patient_name=\"Fariya Ali\"\n",
    "print(patient_name.encode('UTF-8'))"
   ]
  },
  {
   "cell_type": "markdown",
   "id": "0f5792af",
   "metadata": {},
   "source": [
    "## Endswith / Startswith"
   ]
  },
  {
   "cell_type": "code",
   "execution_count": 69,
   "id": "5ef19d5c",
   "metadata": {},
   "outputs": [
    {
     "name": "stdout",
     "output_type": "stream",
     "text": [
      "False\n"
     ]
    }
   ],
   "source": [
    "patient_name=\"Fariya Ali\"\n",
    "print(patient_name.endswith('Fariya'))"
   ]
  },
  {
   "cell_type": "code",
   "execution_count": 70,
   "id": "bd4df3e8",
   "metadata": {},
   "outputs": [
    {
     "name": "stdout",
     "output_type": "stream",
     "text": [
      "True\n"
     ]
    }
   ],
   "source": [
    "patient_name=\"Fariya Ali\"\n",
    "print(patient_name.endswith('Ali'))"
   ]
  },
  {
   "cell_type": "code",
   "execution_count": 71,
   "id": "628e70a2",
   "metadata": {},
   "outputs": [
    {
     "name": "stdout",
     "output_type": "stream",
     "text": [
      "False\n"
     ]
    }
   ],
   "source": [
    "patient_name=\"Fariya Ali\"\n",
    "print(patient_name.startswith('Ali'))"
   ]
  },
  {
   "cell_type": "code",
   "execution_count": 72,
   "id": "612cb237",
   "metadata": {},
   "outputs": [
    {
     "name": "stdout",
     "output_type": "stream",
     "text": [
      "True\n"
     ]
    }
   ],
   "source": [
    "patient_name=\"Fariya Ali\"\n",
    "print(patient_name.startswith('Fariya'))"
   ]
  },
  {
   "cell_type": "markdown",
   "id": "0429b278",
   "metadata": {},
   "source": [
    "## Expands Tabs and Format"
   ]
  },
  {
   "cell_type": "code",
   "execution_count": 77,
   "id": "34766747",
   "metadata": {},
   "outputs": [
    {
     "name": "stdout",
     "output_type": "stream",
     "text": [
      "\n",
      "Patient's Bill Reciept\n",
      "OPD\n",
      "Name:     Fariya Ali  Date:   2023-01-16\n",
      "Age: 30    Gender:  Female\n",
      "Consultant:    Dr. Muhammad hasnain\n",
      "\n"
     ]
    }
   ],
   "source": [
    "patient_name=\"Fariya Ali\"\n",
    "date=\"2023-01-16\"\n",
    "age=30\n",
    "gender=\"Female\"\n",
    "consultant=\"Dr. Muhammad hasnain\"\n",
    "\n",
    "patient_slip=\"\"\"\n",
    "Patient's Bill Reciept\n",
    "OPD\n",
    "Name:\\t{}  Date:\\t{}\n",
    "Age:\\t{}    Gender:\\t{}\n",
    "Consultant:\\t{}\n",
    "\"\"\".format(patient_name,date,age,gender,consultant)\n",
    "print(patient_slip.expandtabs(5))"
   ]
  },
  {
   "cell_type": "markdown",
   "id": "9514a89c",
   "metadata": {},
   "source": [
    "## Find\n",
    "1.The find() method finds the first occurence of the specfied value or phrase.\n",
    "## rfind\n",
    "2.The rfind() method finds the last occurrence of the specified value.\n",
    "\n"
   ]
  },
  {
   "cell_type": "code",
   "execution_count": 82,
   "id": "41c3f302",
   "metadata": {},
   "outputs": [
    {
     "name": "stdout",
     "output_type": "stream",
     "text": [
      "0\n"
     ]
    }
   ],
   "source": [
    "(#find)\n",
    "patient_name=\"two times two is four\"\n",
    "print(patient_name.find(\"two\"))"
   ]
  },
  {
   "cell_type": "code",
   "execution_count": 81,
   "id": "2b60d59d",
   "metadata": {},
   "outputs": [
    {
     "name": "stdout",
     "output_type": "stream",
     "text": [
      "10\n"
     ]
    }
   ],
   "source": [
    "(#rfind)\n",
    "patient_name=\"two times two is four\" \n",
    "print(patient_name.rfind(\"two\"))"
   ]
  },
  {
   "cell_type": "markdown",
   "id": "1af5bb0f",
   "metadata": {},
   "source": [
    "## Format Map"
   ]
  },
  {
   "cell_type": "code",
   "execution_count": 89,
   "id": "11fc2986",
   "metadata": {},
   "outputs": [
    {
     "name": "stdout",
     "output_type": "stream",
     "text": [
      "Fariya Ali\n"
     ]
    }
   ],
   "source": [
    "patient_name=\"Fariya Ali\"\n",
    "print(patient_name.format_map(\" FariYa ALi\"))"
   ]
  },
  {
   "cell_type": "markdown",
   "id": "c9277960",
   "metadata": {},
   "source": [
    "## Index\n",
    "1.The rindex() method finds the first occurrence of the specified value.\n",
    "## rindex\n",
    "2.The rindex() method finds the last occurrence of the specified value."
   ]
  },
  {
   "cell_type": "code",
   "execution_count": 83,
   "id": "3e8fd695",
   "metadata": {},
   "outputs": [
    {
     "name": "stdout",
     "output_type": "stream",
     "text": [
      "1\n"
     ]
    }
   ],
   "source": [
    "patient_name=\"Fariya Ali\"\n",
    "print(patient_name.index(\"a\"))"
   ]
  },
  {
   "cell_type": "code",
   "execution_count": 85,
   "id": "489a8805",
   "metadata": {},
   "outputs": [
    {
     "name": "stdout",
     "output_type": "stream",
     "text": [
      "5\n"
     ]
    }
   ],
   "source": [
    "patient_name=\"Fariya Ali\"\n",
    "print(patient_name.rindex(\"a\"))"
   ]
  },
  {
   "cell_type": "markdown",
   "id": "cd00d8cf",
   "metadata": {},
   "source": [
    "## Isalnum"
   ]
  },
  {
   "cell_type": "code",
   "execution_count": 98,
   "id": "ac038839",
   "metadata": {},
   "outputs": [
    {
     "name": "stdout",
     "output_type": "stream",
     "text": [
      "False\n"
     ]
    }
   ],
   "source": [
    "patient_name=\"Fariya Ali\" # to check the string containing alphanumeric values\n",
    "print(patient_name.isalnum())"
   ]
  },
  {
   "cell_type": "markdown",
   "id": "bc7f539f",
   "metadata": {},
   "source": [
    "## Isalpha"
   ]
  },
  {
   "cell_type": "code",
   "execution_count": 103,
   "id": "74192a19",
   "metadata": {},
   "outputs": [
    {
     "name": "stdout",
     "output_type": "stream",
     "text": [
      "False\n"
     ]
    }
   ],
   "source": [
    "patient_name=\"Fariya Ali\" # to check the string containing alphabets or not \n",
    "print(patient_name.isalpha())\n",
    "## in this case space is added thats why its result is false \n"
   ]
  },
  {
   "cell_type": "code",
   "execution_count": 102,
   "id": "5d592602",
   "metadata": {},
   "outputs": [
    {
     "name": "stdout",
     "output_type": "stream",
     "text": [
      "True\n"
     ]
    }
   ],
   "source": [
    "# when we remove space, it gives True\n",
    "patient_name=\"Fariya\" # to check the string containing alphabets or not \n",
    "print(patient_name.isalpha())"
   ]
  },
  {
   "cell_type": "markdown",
   "id": "b8443121",
   "metadata": {},
   "source": [
    "## Isascii\n",
    "##### what is the difference between Isascii and Isalpha?"
   ]
  },
  {
   "cell_type": "code",
   "execution_count": 105,
   "id": "e930498c",
   "metadata": {},
   "outputs": [
    {
     "name": "stdout",
     "output_type": "stream",
     "text": [
      "True\n"
     ]
    }
   ],
   "source": [
    "patient_name=\"FariyaAli\" # to check the string containing alphabets or not \n",
    "print(patient_name.isalpha())"
   ]
  },
  {
   "cell_type": "markdown",
   "id": "8006cd89",
   "metadata": {},
   "source": [
    "## Isdecimal"
   ]
  },
  {
   "cell_type": "code",
   "execution_count": 116,
   "id": "ba6cf1bd",
   "metadata": {},
   "outputs": [
    {
     "name": "stdout",
     "output_type": "stream",
     "text": [
      "False\n"
     ]
    }
   ],
   "source": [
    "patient_name=\"FariyaAli\" \n",
    "print(patient_name.isdecimal())"
   ]
  },
  {
   "cell_type": "code",
   "execution_count": 133,
   "id": "55241259",
   "metadata": {},
   "outputs": [
    {
     "name": "stdout",
     "output_type": "stream",
     "text": [
      "True\n"
     ]
    }
   ],
   "source": [
    "weight = \"43\" #if string contain all decimal values or not\n",
    "print(weight.isdecimal())\n"
   ]
  },
  {
   "cell_type": "markdown",
   "id": "e719e9cc",
   "metadata": {},
   "source": [
    "## Isdigit"
   ]
  },
  {
   "cell_type": "code",
   "execution_count": 135,
   "id": "73a872ca",
   "metadata": {},
   "outputs": [
    {
     "name": "stdout",
     "output_type": "stream",
     "text": [
      "True\n"
     ]
    }
   ],
   "source": [
    "weight = \"43\" #if string contain all decimal values or not\n",
    "print(weight.isdigit())"
   ]
  },
  {
   "cell_type": "code",
   "execution_count": 136,
   "id": "17e763d3",
   "metadata": {},
   "outputs": [
    {
     "name": "stdout",
     "output_type": "stream",
     "text": [
      "False\n"
     ]
    }
   ],
   "source": [
    "patient_name=\"FariyaAli545\" \n",
    "print(patient_name.isdigit())"
   ]
  },
  {
   "cell_type": "markdown",
   "id": "1de8c3c6",
   "metadata": {},
   "source": [
    "## Isidentifier\n"
   ]
  },
  {
   "cell_type": "code",
   "execution_count": 142,
   "id": "be6d6fa9",
   "metadata": {},
   "outputs": [
    {
     "name": "stdout",
     "output_type": "stream",
     "text": [
      "True\n"
     ]
    }
   ],
   "source": [
    "patient_name=\"FariyaAli\" # a valid identifier cannot start with number or any oprator, whereas doenot contain space\n",
    "print(patient_name.isidentifier())"
   ]
  },
  {
   "cell_type": "code",
   "execution_count": 143,
   "id": "07d9d3d4",
   "metadata": {},
   "outputs": [
    {
     "name": "stdout",
     "output_type": "stream",
     "text": [
      "False\n"
     ]
    }
   ],
   "source": [
    "patient_name=\"Fariya Ali\" # a valid identifier cannot start with number or any oprator, whereas doenot contain space\n",
    "print(patient_name.isidentifier())"
   ]
  },
  {
   "cell_type": "markdown",
   "id": "3ac7ba45",
   "metadata": {},
   "source": [
    "## Islower"
   ]
  },
  {
   "cell_type": "code",
   "execution_count": 145,
   "id": "44e4f70e",
   "metadata": {},
   "outputs": [
    {
     "name": "stdout",
     "output_type": "stream",
     "text": [
      "True\n"
     ]
    }
   ],
   "source": [
    "patient_name=\"fariya ali\" # a string contain all lower case letter or not\n",
    "print(patient_name.islower())"
   ]
  },
  {
   "cell_type": "code",
   "execution_count": 146,
   "id": "2660a210",
   "metadata": {},
   "outputs": [
    {
     "name": "stdout",
     "output_type": "stream",
     "text": [
      "False\n"
     ]
    }
   ],
   "source": [
    "patient_name=\"Fariya Ali\" # a string contain all lower case letter or not\n",
    "print(patient_name.islower())"
   ]
  },
  {
   "cell_type": "markdown",
   "id": "ac85d30d",
   "metadata": {},
   "source": [
    "## Isnumeric"
   ]
  },
  {
   "cell_type": "code",
   "execution_count": 1,
   "id": "bc90e89e",
   "metadata": {},
   "outputs": [
    {
     "name": "stdout",
     "output_type": "stream",
     "text": [
      "True\n"
     ]
    }
   ],
   "source": [
    "weight = \"43\" #if string is numeric or not\n",
    "print(weight.isnumeric())"
   ]
  },
  {
   "cell_type": "code",
   "execution_count": 2,
   "id": "e55e3b03",
   "metadata": {},
   "outputs": [
    {
     "name": "stdout",
     "output_type": "stream",
     "text": [
      "False\n"
     ]
    }
   ],
   "source": [
    "patient_name=\"Fariya Ali546\" \n",
    "print(patient_name.isnumeric())"
   ]
  },
  {
   "cell_type": "markdown",
   "id": "266301ec",
   "metadata": {},
   "source": [
    "## Isprintable"
   ]
  },
  {
   "cell_type": "code",
   "execution_count": 4,
   "id": "49f21234",
   "metadata": {},
   "outputs": [
    {
     "name": "stdout",
     "output_type": "stream",
     "text": [
      "True\n"
     ]
    }
   ],
   "source": [
    "txt = \"Hello! Are you #1?\" # to determine the string containing character are printable or not?\n",
    "print(txt.isprintable())\n"
   ]
  },
  {
   "cell_type": "markdown",
   "id": "6c80b55c",
   "metadata": {},
   "source": [
    "## isspace\n",
    "The isspace() method returns True if all the characters in a string are whitespaces, otherwise False."
   ]
  },
  {
   "cell_type": "code",
   "execution_count": 6,
   "id": "35c60c87",
   "metadata": {},
   "outputs": [
    {
     "name": "stdout",
     "output_type": "stream",
     "text": [
      "False\n"
     ]
    }
   ],
   "source": [
    "txt = \"Hello! Are you #1?\" \n",
    "print(txt.isspace())\n"
   ]
  },
  {
   "cell_type": "code",
   "execution_count": 7,
   "id": "60fb1404",
   "metadata": {},
   "outputs": [
    {
     "name": "stdout",
     "output_type": "stream",
     "text": [
      "True\n"
     ]
    }
   ],
   "source": [
    "txt = \"   \" #\n",
    "print(txt.isspace())"
   ]
  },
  {
   "cell_type": "markdown",
   "id": "cd235d94",
   "metadata": {},
   "source": [
    "## istitle\n",
    "The istitle() method returns True if all words in a text start with a upper case letter, AND the rest of the word are lower case letters, otherwise False."
   ]
  },
  {
   "cell_type": "code",
   "execution_count": 49,
   "id": "91521c79",
   "metadata": {},
   "outputs": [
    {
     "name": "stdout",
     "output_type": "stream",
     "text": [
      "False\n"
     ]
    }
   ],
   "source": [
    "txt = \"Hello! Are you #1?\"\n",
    "print(txt.istitle())\n"
   ]
  },
  {
   "cell_type": "code",
   "execution_count": 14,
   "id": "a73e5ff8",
   "metadata": {},
   "outputs": [
    {
     "name": "stdout",
     "output_type": "stream",
     "text": [
      "True\n"
     ]
    }
   ],
   "source": [
    "x=\"The Patient Slip\"\n",
    "print(x.istitle())"
   ]
  },
  {
   "cell_type": "markdown",
   "id": "183a703d",
   "metadata": {},
   "source": [
    "## title\n",
    "The title() method returns a string where the first character in every word is upper case. Like a header, or a title."
   ]
  },
  {
   "cell_type": "code",
   "execution_count": 110,
   "id": "87eae913",
   "metadata": {},
   "outputs": [
    {
     "name": "stdout",
     "output_type": "stream",
     "text": [
      "Hello! Are You #1?\n"
     ]
    }
   ],
   "source": [
    "txt = \"hello! Are you #1?\"\n",
    "print(txt.title())"
   ]
  },
  {
   "cell_type": "markdown",
   "id": "50407f58",
   "metadata": {},
   "source": [
    "## Isupper"
   ]
  },
  {
   "cell_type": "code",
   "execution_count": 15,
   "id": "ab6202fe",
   "metadata": {},
   "outputs": [
    {
     "name": "stdout",
     "output_type": "stream",
     "text": [
      "False\n"
     ]
    }
   ],
   "source": [
    "x=\"The Patient Slip\" # is used to determine the that all characters in string are upper case \n",
    "print(x.isupper())"
   ]
  },
  {
   "cell_type": "code",
   "execution_count": 16,
   "id": "3933aa19",
   "metadata": {},
   "outputs": [
    {
     "name": "stdout",
     "output_type": "stream",
     "text": [
      "True\n"
     ]
    }
   ],
   "source": [
    "x=\"CARD\" # \n",
    "print(x.isupper())"
   ]
  },
  {
   "cell_type": "markdown",
   "id": "be464dd2",
   "metadata": {},
   "source": [
    "## Lower / Upper"
   ]
  },
  {
   "cell_type": "code",
   "execution_count": 17,
   "id": "6ff12b8e",
   "metadata": {},
   "outputs": [
    {
     "name": "stdout",
     "output_type": "stream",
     "text": [
      "card\n"
     ]
    }
   ],
   "source": [
    "x=\"CARD\" # \n",
    "print(x.lower())"
   ]
  },
  {
   "cell_type": "code",
   "execution_count": 111,
   "id": "dad6c4e4",
   "metadata": {},
   "outputs": [
    {
     "name": "stdout",
     "output_type": "stream",
     "text": [
      "CARD\n"
     ]
    }
   ],
   "source": [
    "x=\"card\" # \n",
    "print(x.upper())"
   ]
  },
  {
   "cell_type": "markdown",
   "id": "246f6e10",
   "metadata": {},
   "source": [
    "## Join"
   ]
  },
  {
   "cell_type": "code",
   "execution_count": 21,
   "id": "b19d549a",
   "metadata": {},
   "outputs": [
    {
     "name": "stdout",
     "output_type": "stream",
     "text": [
      "The Patient Slip\n"
     ]
    }
   ],
   "source": [
    "x=\"The\",\"Patient\",\"Slip\" # join all the iterators in one string with a separator specified\n",
    "print(\" \".join(x))"
   ]
  },
  {
   "cell_type": "markdown",
   "id": "91e5f89c",
   "metadata": {},
   "source": [
    "## ljust/rjust"
   ]
  },
  {
   "cell_type": "code",
   "execution_count": 100,
   "id": "294acb5a",
   "metadata": {},
   "outputs": [
    {
     "name": "stdout",
     "output_type": "stream",
     "text": [
      "My name is Mibah Sabir                        \n"
     ]
    }
   ],
   "source": [
    "name=\"Mibah Sabir\"\n",
    "print(\"My name is\",name.ljust(35))"
   ]
  },
  {
   "cell_type": "code",
   "execution_count": 97,
   "id": "a6894587",
   "metadata": {},
   "outputs": [
    {
     "name": "stdout",
     "output_type": "stream",
     "text": [
      "My name is                         Mibah Sabir\n"
     ]
    }
   ],
   "source": [
    "name=\"Mibah Sabir\"\n",
    "print(\"My name is\",name.rjust(35))"
   ]
  },
  {
   "cell_type": "markdown",
   "id": "867d297a",
   "metadata": {},
   "source": [
    "## Strip"
   ]
  },
  {
   "cell_type": "code",
   "execution_count": 48,
   "id": "293cc5e6",
   "metadata": {},
   "outputs": [
    {
     "name": "stdout",
     "output_type": "stream",
     "text": [
      "     Misbah   Sabir\n",
      "Misbah   Sabir\n",
      "     Misbah   Sabir\n",
      "Misbah   Sabir\n"
     ]
    }
   ],
   "source": [
    "x= \"     Misbah   Sabir\"\n",
    "print(x)\n",
    "print(x.lstrip())\n",
    "print(x.rstrip())\n",
    "print(x.strip())\n"
   ]
  },
  {
   "cell_type": "markdown",
   "id": "245d2d44",
   "metadata": {},
   "source": [
    "## maketrans and ## translate\n",
    "The maketrans() method returns a mapping table that can be used with the translate() method to replace specified characters."
   ]
  },
  {
   "cell_type": "code",
   "execution_count": 51,
   "id": "f55253d5",
   "metadata": {},
   "outputs": [
    {
     "name": "stdout",
     "output_type": "stream",
     "text": [
      "today's  date is 2023-01-18\n"
     ]
    }
   ],
   "source": [
    "x=\"today's  date is 2023-01-17\" # only replace equal length of word or chracter\n",
    "y=x.maketrans('2023-01-17','2023-01-18')\n",
    "print(x.translate(y))"
   ]
  },
  {
   "cell_type": "markdown",
   "id": "a4b33329",
   "metadata": {},
   "source": [
    "## partition\n",
    "The partition() method searches for a specified string, and splits the string into a tuple containing three elements.\n",
    "\n",
    "The first element contains the part before the specified string.\n",
    "\n",
    "The second element contains the specified string.\n",
    "\n",
    "The third element contains the part after the string."
   ]
  },
  {
   "cell_type": "code",
   "execution_count": 54,
   "id": "d6cfdac4",
   "metadata": {},
   "outputs": [
    {
     "name": "stdout",
     "output_type": "stream",
     "text": [
      "(\"today's  \", 'date', ' is 2023-01-17')\n"
     ]
    }
   ],
   "source": [
    "x=\"today's  date is 2023-01-17\"\n",
    "print(x.partition('date'))"
   ]
  },
  {
   "cell_type": "code",
   "execution_count": 56,
   "id": "d7954bc4",
   "metadata": {},
   "outputs": [
    {
     "name": "stdout",
     "output_type": "stream",
     "text": [
      "('I could eat ', 'banana', 's all day')\n"
     ]
    }
   ],
   "source": [
    "x=\"I could eat bananas all day\"\n",
    "print(x.partition(\"banana\"))"
   ]
  },
  {
   "cell_type": "markdown",
   "id": "683ff8f1",
   "metadata": {},
   "source": [
    "## rpartition\n",
    "Search for the last occurrence of the word \"bananas\", and return a tuple with three elements:\n",
    "\n",
    "1 - everything before the \"match\"\n",
    "2 - the \"match\"\n",
    "3 - everything after the \"match\""
   ]
  },
  {
   "cell_type": "code",
   "execution_count": 57,
   "id": "c1572437",
   "metadata": {},
   "outputs": [
    {
     "name": "stdout",
     "output_type": "stream",
     "text": [
      "('I could eat strawberries all day,', 'strawberries', ' are my favourite fruit')\n"
     ]
    }
   ],
   "source": [
    "x=\"I could eat strawberries all day,strawberries are my favourite fruit\"\n",
    "print(x.rpartition(\"strawberries\"))"
   ]
  },
  {
   "cell_type": "markdown",
   "id": "7db50f40",
   "metadata": {},
   "source": [
    "## removeprefix\n",
    "Python String removeprefix() function removes the prefix and returns the rest of the string. If the prefix string is not found, then it returns the original string."
   ]
  },
  {
   "cell_type": "code",
   "execution_count": 68,
   "id": "474a546f",
   "metadata": {},
   "outputs": [
    {
     "name": "stdout",
     "output_type": "stream",
     "text": [
      " could eat strawberries all day\n"
     ]
    }
   ],
   "source": [
    "x=\"I could eat strawberries all day\"\n",
    "print(x.removeprefix (\"I\"))"
   ]
  },
  {
   "cell_type": "markdown",
   "id": "bd4bd66e",
   "metadata": {},
   "source": [
    "## removesuffix\n",
    "if the string ends with the suffix and the suffix is not empty, the str.removesuffix(suffix, /) function removes the suffix and returns the rest of the string. If the suffix string is not found then it returns the original string."
   ]
  },
  {
   "cell_type": "code",
   "execution_count": 71,
   "id": "d4823797",
   "metadata": {},
   "outputs": [
    {
     "name": "stdout",
     "output_type": "stream",
     "text": [
      "I could eat strawberries all \n"
     ]
    }
   ],
   "source": [
    "x=\"I could eat strawberries all day\"\n",
    "print(x.removesuffix (\"day\"))"
   ]
  },
  {
   "cell_type": "markdown",
   "id": "381589da",
   "metadata": {},
   "source": [
    "## replace\n",
    "The replace() method replaces a specified phrase with another specified phrase."
   ]
  },
  {
   "cell_type": "code",
   "execution_count": 72,
   "id": "9e1dff55",
   "metadata": {},
   "outputs": [
    {
     "name": "stdout",
     "output_type": "stream",
     "text": [
      "I could eat coconut all day\n"
     ]
    }
   ],
   "source": [
    "x=\"I could eat strawberries all day\"\n",
    "print(x.replace (\"strawberries\",\"coconut\"))"
   ]
  },
  {
   "cell_type": "markdown",
   "id": "ed769c54",
   "metadata": {},
   "source": [
    "## rsplit / split \n",
    "The rsplit() method splits a string into a list, starting from the right.\n",
    "The split() method splits a string into a list.\n"
   ]
  },
  {
   "cell_type": "code",
   "execution_count": 106,
   "id": "1b160310",
   "metadata": {},
   "outputs": [
    {
     "name": "stdout",
     "output_type": "stream",
     "text": [
      "['cherry', 'berry', 'banana']\n"
     ]
    }
   ],
   "source": [
    "fruits=(\"cherry,berry,banana\")  ## no difference between both\n",
    "print(fruits.rsplit(\",\"))"
   ]
  },
  {
   "cell_type": "code",
   "execution_count": 104,
   "id": "064f153f",
   "metadata": {},
   "outputs": [
    {
     "name": "stdout",
     "output_type": "stream",
     "text": [
      "['cherry', 'berry', 'banana']\n"
     ]
    }
   ],
   "source": [
    "fruits=(\"cherry,berry,banana\")\n",
    "print(fruits.split(\",\"))"
   ]
  },
  {
   "cell_type": "markdown",
   "id": "75e84e04",
   "metadata": {},
   "source": [
    "## splitlines\n",
    "The splitlines() method splits a string into a list. The splitting is done at line breaks.\n"
   ]
  },
  {
   "cell_type": "code",
   "execution_count": 107,
   "id": "e037d722",
   "metadata": {},
   "outputs": [
    {
     "name": "stdout",
     "output_type": "stream",
     "text": [
      "['Thank you for the music', 'Welcome to the jungle']\n"
     ]
    }
   ],
   "source": [
    "txt = \"Thank you for the music\\nWelcome to the jungle\"\n",
    "print(txt.splitlines())"
   ]
  },
  {
   "cell_type": "markdown",
   "id": "094a04e5",
   "metadata": {},
   "source": [
    "## Swapcase\n",
    "The swapcase() method returns a string where all the upper case letters are lower case and vice versa.\n",
    "\n"
   ]
  },
  {
   "cell_type": "code",
   "execution_count": 108,
   "id": "d92705de",
   "metadata": {},
   "outputs": [
    {
     "name": "stdout",
     "output_type": "stream",
     "text": [
      "hELLO mY nAME iS mIsBaH\n"
     ]
    }
   ],
   "source": [
    "x=\"Hello My Name Is MiSbAh\"\n",
    "print(x.swapcase())"
   ]
  },
  {
   "cell_type": "markdown",
   "id": "eed5fdf3",
   "metadata": {},
   "source": [
    "## zfill\n",
    "The zfill() method adds zeros (0) at the beginning of the string, until it reaches the specified length.\n",
    "If the value of the len parameter is less than the length of the string, no filling is done."
   ]
  },
  {
   "cell_type": "code",
   "execution_count": 118,
   "id": "ddab2fa9",
   "metadata": {},
   "outputs": [
    {
     "name": "stdout",
     "output_type": "stream",
     "text": [
      "0050\n",
      "1000\n"
     ]
    }
   ],
   "source": [
    "a= \"50\"\n",
    "print(a.zfill(4))\n",
    "print(\"1000\")\n"
   ]
  }
 ],
 "metadata": {
  "kernelspec": {
   "display_name": "Python 3 (ipykernel)",
   "language": "python",
   "name": "python3"
  },
  "language_info": {
   "codemirror_mode": {
    "name": "ipython",
    "version": 3
   },
   "file_extension": ".py",
   "mimetype": "text/x-python",
   "name": "python",
   "nbconvert_exporter": "python",
   "pygments_lexer": "ipython3",
   "version": "3.9.13"
  }
 },
 "nbformat": 4,
 "nbformat_minor": 5
}
